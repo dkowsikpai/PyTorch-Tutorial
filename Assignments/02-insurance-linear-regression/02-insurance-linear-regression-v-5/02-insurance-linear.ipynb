{
 "cells": [
  {
   "cell_type": "markdown",
   "metadata": {
    "_cell_guid": "b1076dfc-b9ad-4769-8c92-a6c4dae69d19",
    "_uuid": "8f2839f25d086af736a60e9eeb907d3b93b6e0e5"
   },
   "source": [
    "# Insurance cost prediction using linear regression\n",
    "\n",
    "Make a submisson here: https://jovian.ai/learn/deep-learning-with-pytorch-zero-to-gans/assignment/assignment-2-train-your-first-model\n",
    "\n",
    "In this assignment we're going to use information like a person's age, sex, BMI, no. of children and smoking habit to predict the price of yearly medical bills. This kind of model is useful for insurance companies to determine the yearly insurance premium for a person. The dataset for this problem is taken from [Kaggle](https://www.kaggle.com/mirichoi0218/insurance).\n",
    "\n",
    "\n",
    "We will create a model with the following steps:\n",
    "1. Download and explore the dataset\n",
    "2. Prepare the dataset for training\n",
    "3. Create a linear regression model\n",
    "4. Train the model to fit the data\n",
    "5. Make predictions using the trained model\n",
    "\n",
    "\n",
    "This assignment builds upon the concepts from the first 2 lessons. It will help to review these Jupyter notebooks:\n",
    "- PyTorch basics: https://jovian.ai/aakashns/01-pytorch-basics\n",
    "- Linear Regression: https://jovian.ai/aakashns/02-linear-regression\n",
    "- Logistic Regression: https://jovian.ai/aakashns/03-logistic-regression\n",
    "- Linear regression (minimal): https://jovian.ai/aakashns/housing-linear-minimal\n",
    "- Logistic regression (minimal): https://jovian.ai/aakashns/mnist-logistic-minimal\n",
    "\n",
    "As you go through this notebook, you will find a **???** in certain places. Your job is to replace the **???** with appropriate code or values, to ensure that the notebook runs properly end-to-end . In some cases, you'll be required to choose some hyperparameters (learning rate, batch size etc.). Try to experiment with the hypeparameters to get the lowest loss.\n"
   ]
  },
  {
   "cell_type": "code",
   "execution_count": 1,
   "metadata": {},
   "outputs": [],
   "source": [
    "# Uncomment and run the appropriate command for your operating system, if required\n",
    "\n",
    "# Linux / Binder\n",
    "# !pip install numpy matplotlib pandas torch==1.7.0+cpu torchvision==0.8.1+cpu torchaudio==0.7.0 -f https://download.pytorch.org/whl/torch_stable.html\n",
    "\n",
    "# Windows\n",
    "# !pip install numpy matplotlib pandas torch==1.7.0+cpu torchvision==0.8.1+cpu torchaudio==0.7.0 -f https://download.pytorch.org/whl/torch_stable.html\n",
    "\n",
    "# MacOS\n",
    "# !pip install numpy matplotlib pandas torch torchvision torchaudio"
   ]
  },
  {
   "cell_type": "code",
   "execution_count": 2,
   "metadata": {},
   "outputs": [],
   "source": [
    "import torch\n",
    "import jovian\n",
    "import torchvision\n",
    "import torch.nn as nn\n",
    "import pandas as pd\n",
    "import matplotlib.pyplot as plt\n",
    "import torch.nn.functional as F\n",
    "from torchvision.datasets.utils import download_url\n",
    "from torch.utils.data import DataLoader, TensorDataset, random_split"
   ]
  },
  {
   "cell_type": "code",
   "execution_count": 3,
   "metadata": {},
   "outputs": [],
   "source": [
    "project_name='02-insurance-linear-regression' # will be used by jovian.commit"
   ]
  },
  {
   "cell_type": "markdown",
   "metadata": {},
   "source": [
    "## Step 1: Download and explore the data\n",
    "\n",
    "Let us begin by downloading the data. We'll use the `download_url` function from PyTorch to get the data as a CSV (comma-separated values) file. "
   ]
  },
  {
   "cell_type": "code",
   "execution_count": 4,
   "metadata": {
    "_cell_guid": "79c7e3d0-c299-4dcb-8224-4455121ee9b0",
    "_uuid": "d629ff2d2480ee46fbb7e2d37f6b5fab8052498a"
   },
   "outputs": [
    {
     "name": "stdout",
     "output_type": "stream",
     "text": [
      "Using downloaded and verified file: ./insurance.csv\n"
     ]
    }
   ],
   "source": [
    "DATASET_URL = \"https://hub.jovian.ml/wp-content/uploads/2020/05/insurance.csv\"\n",
    "DATA_FILENAME = \"insurance.csv\"\n",
    "download_url(DATASET_URL, '.')"
   ]
  },
  {
   "cell_type": "markdown",
   "metadata": {},
   "source": [
    "To load the dataset into memory, we'll use the `read_csv` function from the `pandas` library. The data will be loaded as a Pandas dataframe. See this short tutorial to learn more: https://data36.com/pandas-tutorial-1-basics-reading-data-files-dataframes-data-selection/"
   ]
  },
  {
   "cell_type": "code",
   "execution_count": 5,
   "metadata": {},
   "outputs": [
    {
     "data": {
      "text/html": [
       "<div>\n",
       "<style scoped>\n",
       "    .dataframe tbody tr th:only-of-type {\n",
       "        vertical-align: middle;\n",
       "    }\n",
       "\n",
       "    .dataframe tbody tr th {\n",
       "        vertical-align: top;\n",
       "    }\n",
       "\n",
       "    .dataframe thead th {\n",
       "        text-align: right;\n",
       "    }\n",
       "</style>\n",
       "<table border=\"1\" class=\"dataframe\">\n",
       "  <thead>\n",
       "    <tr style=\"text-align: right;\">\n",
       "      <th></th>\n",
       "      <th>age</th>\n",
       "      <th>sex</th>\n",
       "      <th>bmi</th>\n",
       "      <th>children</th>\n",
       "      <th>smoker</th>\n",
       "      <th>region</th>\n",
       "      <th>charges</th>\n",
       "    </tr>\n",
       "  </thead>\n",
       "  <tbody>\n",
       "    <tr>\n",
       "      <th>0</th>\n",
       "      <td>19</td>\n",
       "      <td>female</td>\n",
       "      <td>27.900</td>\n",
       "      <td>0</td>\n",
       "      <td>yes</td>\n",
       "      <td>southwest</td>\n",
       "      <td>16884.92400</td>\n",
       "    </tr>\n",
       "    <tr>\n",
       "      <th>1</th>\n",
       "      <td>18</td>\n",
       "      <td>male</td>\n",
       "      <td>33.770</td>\n",
       "      <td>1</td>\n",
       "      <td>no</td>\n",
       "      <td>southeast</td>\n",
       "      <td>1725.55230</td>\n",
       "    </tr>\n",
       "    <tr>\n",
       "      <th>2</th>\n",
       "      <td>28</td>\n",
       "      <td>male</td>\n",
       "      <td>33.000</td>\n",
       "      <td>3</td>\n",
       "      <td>no</td>\n",
       "      <td>southeast</td>\n",
       "      <td>4449.46200</td>\n",
       "    </tr>\n",
       "    <tr>\n",
       "      <th>3</th>\n",
       "      <td>33</td>\n",
       "      <td>male</td>\n",
       "      <td>22.705</td>\n",
       "      <td>0</td>\n",
       "      <td>no</td>\n",
       "      <td>northwest</td>\n",
       "      <td>21984.47061</td>\n",
       "    </tr>\n",
       "    <tr>\n",
       "      <th>4</th>\n",
       "      <td>32</td>\n",
       "      <td>male</td>\n",
       "      <td>28.880</td>\n",
       "      <td>0</td>\n",
       "      <td>no</td>\n",
       "      <td>northwest</td>\n",
       "      <td>3866.85520</td>\n",
       "    </tr>\n",
       "  </tbody>\n",
       "</table>\n",
       "</div>"
      ],
      "text/plain": [
       "   age     sex     bmi  children smoker     region      charges\n",
       "0   19  female  27.900         0    yes  southwest  16884.92400\n",
       "1   18    male  33.770         1     no  southeast   1725.55230\n",
       "2   28    male  33.000         3     no  southeast   4449.46200\n",
       "3   33    male  22.705         0     no  northwest  21984.47061\n",
       "4   32    male  28.880         0     no  northwest   3866.85520"
      ]
     },
     "execution_count": 5,
     "metadata": {},
     "output_type": "execute_result"
    }
   ],
   "source": [
    "dataframe_raw = pd.read_csv(DATA_FILENAME)\n",
    "dataframe_raw.head()"
   ]
  },
  {
   "cell_type": "markdown",
   "metadata": {},
   "source": [
    "We're going to do a slight customization of the data, so that you every participant receives a slightly different version of the dataset. Fill in your name below as a string (enter at least 5 characters)"
   ]
  },
  {
   "cell_type": "code",
   "execution_count": 6,
   "metadata": {},
   "outputs": [],
   "source": [
    "your_name = \"Kowsik\" # at least 5 characters"
   ]
  },
  {
   "cell_type": "markdown",
   "metadata": {},
   "source": [
    "The `customize_dataset` function will customize the dataset slightly using your name as a source of random numbers."
   ]
  },
  {
   "cell_type": "code",
   "execution_count": 7,
   "metadata": {},
   "outputs": [],
   "source": [
    "def customize_dataset(dataframe_raw, rand_str):\n",
    "    dataframe = dataframe_raw.copy(deep=True)\n",
    "    # drop some rows\n",
    "    dataframe = dataframe.sample(int(0.95*len(dataframe)), random_state=int(ord(rand_str[0])))\n",
    "    # scale input\n",
    "    dataframe.bmi = dataframe.bmi * ord(rand_str[1])/100.\n",
    "    # scale target\n",
    "    dataframe.charges = dataframe.charges * ord(rand_str[2])/100.\n",
    "    # drop column\n",
    "    if ord(rand_str[3]) % 2 == 1:\n",
    "        dataframe = dataframe.drop(['region'], axis=1)\n",
    "    return dataframe"
   ]
  },
  {
   "cell_type": "code",
   "execution_count": 8,
   "metadata": {},
   "outputs": [
    {
     "data": {
      "text/html": [
       "<div>\n",
       "<style scoped>\n",
       "    .dataframe tbody tr th:only-of-type {\n",
       "        vertical-align: middle;\n",
       "    }\n",
       "\n",
       "    .dataframe tbody tr th {\n",
       "        vertical-align: top;\n",
       "    }\n",
       "\n",
       "    .dataframe thead th {\n",
       "        text-align: right;\n",
       "    }\n",
       "</style>\n",
       "<table border=\"1\" class=\"dataframe\">\n",
       "  <thead>\n",
       "    <tr style=\"text-align: right;\">\n",
       "      <th></th>\n",
       "      <th>age</th>\n",
       "      <th>sex</th>\n",
       "      <th>bmi</th>\n",
       "      <th>children</th>\n",
       "      <th>smoker</th>\n",
       "      <th>charges</th>\n",
       "    </tr>\n",
       "  </thead>\n",
       "  <tbody>\n",
       "    <tr>\n",
       "      <th>1307</th>\n",
       "      <td>32</td>\n",
       "      <td>male</td>\n",
       "      <td>31.21320</td>\n",
       "      <td>4</td>\n",
       "      <td>yes</td>\n",
       "      <td>25552.249772</td>\n",
       "    </tr>\n",
       "    <tr>\n",
       "      <th>654</th>\n",
       "      <td>59</td>\n",
       "      <td>female</td>\n",
       "      <td>39.07200</td>\n",
       "      <td>0</td>\n",
       "      <td>no</td>\n",
       "      <td>14570.991890</td>\n",
       "    </tr>\n",
       "    <tr>\n",
       "      <th>1169</th>\n",
       "      <td>37</td>\n",
       "      <td>female</td>\n",
       "      <td>37.85655</td>\n",
       "      <td>1</td>\n",
       "      <td>no</td>\n",
       "      <td>7273.700011</td>\n",
       "    </tr>\n",
       "    <tr>\n",
       "      <th>570</th>\n",
       "      <td>31</td>\n",
       "      <td>female</td>\n",
       "      <td>32.30100</td>\n",
       "      <td>0</td>\n",
       "      <td>no</td>\n",
       "      <td>4475.937480</td>\n",
       "    </tr>\n",
       "    <tr>\n",
       "      <th>633</th>\n",
       "      <td>40</td>\n",
       "      <td>male</td>\n",
       "      <td>25.20255</td>\n",
       "      <td>2</td>\n",
       "      <td>no</td>\n",
       "      <td>8536.298340</td>\n",
       "    </tr>\n",
       "  </tbody>\n",
       "</table>\n",
       "</div>"
      ],
      "text/plain": [
       "      age     sex       bmi  children smoker       charges\n",
       "1307   32    male  31.21320         4    yes  25552.249772\n",
       "654    59  female  39.07200         0     no  14570.991890\n",
       "1169   37  female  37.85655         1     no   7273.700011\n",
       "570    31  female  32.30100         0     no   4475.937480\n",
       "633    40    male  25.20255         2     no   8536.298340"
      ]
     },
     "execution_count": 8,
     "metadata": {},
     "output_type": "execute_result"
    }
   ],
   "source": [
    "dataframe = customize_dataset(dataframe_raw, your_name)\n",
    "dataframe.head()"
   ]
  },
  {
   "cell_type": "markdown",
   "metadata": {},
   "source": [
    "Let us answer some basic questions about the dataset. \n",
    "\n",
    "\n",
    "**Q: How many rows does the dataset have?**"
   ]
  },
  {
   "cell_type": "code",
   "execution_count": 9,
   "metadata": {},
   "outputs": [
    {
     "name": "stdout",
     "output_type": "stream",
     "text": [
      "1271\n"
     ]
    }
   ],
   "source": [
    "num_rows = dataframe.shape[0]\n",
    "print(num_rows)"
   ]
  },
  {
   "cell_type": "markdown",
   "metadata": {},
   "source": [
    "**Q: How many columns doe the dataset have**"
   ]
  },
  {
   "cell_type": "code",
   "execution_count": 10,
   "metadata": {},
   "outputs": [
    {
     "name": "stdout",
     "output_type": "stream",
     "text": [
      "6\n"
     ]
    }
   ],
   "source": [
    "num_cols = dataframe.shape[1]\n",
    "print(num_cols)"
   ]
  },
  {
   "cell_type": "markdown",
   "metadata": {},
   "source": [
    "**Q: What are the column titles of the input variables?**"
   ]
  },
  {
   "cell_type": "code",
   "execution_count": 11,
   "metadata": {},
   "outputs": [],
   "source": [
    "input_cols = list(dataframe.drop([\"charges\"], axis=1).columns)"
   ]
  },
  {
   "cell_type": "markdown",
   "metadata": {},
   "source": [
    "**Q: Which of the input columns are non-numeric or categorial variables ?**\n",
    "\n",
    "Hint: `sex` is one of them. List the columns that are not numbers."
   ]
  },
  {
   "cell_type": "code",
   "execution_count": 12,
   "metadata": {},
   "outputs": [],
   "source": [
    "categorical_cols = [\"sex\", \"smoker\"]"
   ]
  },
  {
   "cell_type": "markdown",
   "metadata": {},
   "source": [
    "**Q: What are the column titles of output/target variable(s)?**"
   ]
  },
  {
   "cell_type": "code",
   "execution_count": 13,
   "metadata": {},
   "outputs": [],
   "source": [
    "output_cols = [\"charges\"]"
   ]
  },
  {
   "cell_type": "markdown",
   "metadata": {},
   "source": [
    "**Q: (Optional) What is the minimum, maximum and average value of the `charges` column? Can you show the distribution of values in a graph?**\n",
    "Use this data visualization cheatsheet for referece: https://jovian.ml/aakashns/dataviz-cheatsheet"
   ]
  },
  {
   "cell_type": "code",
   "execution_count": 14,
   "metadata": {},
   "outputs": [],
   "source": [
    "%matplotlib inline"
   ]
  },
  {
   "cell_type": "code",
   "execution_count": 15,
   "metadata": {},
   "outputs": [
    {
     "data": {
      "image/png": "[encoded data removed]",
      "text/plain": [
       "<Figure size 432x288 with 1 Axes>"
      ]
     },
     "metadata": {
      "needs_background": "light"
     },
     "output_type": "display_data"
    }
   ],
   "source": [
    "minimum = dataframe.charges.min()\n",
    "maximum = dataframe.charges.max()\n",
    "avg = dataframe.charges.mean()\n",
    "plt.bar([\"Minimum\", \"Maximum\", \"Average\"], [minimum, maximum, avg])\n",
    "plt.ylabel(\"charges\")\n",
    "plt.show()"
   ]
  },
  {
   "cell_type": "markdown",
   "metadata": {},
   "source": [
    "Remember to commit your notebook to Jovian after every step, so that you don't lose your work."
   ]
  },
  {
   "cell_type": "code",
   "execution_count": 16,
   "metadata": {},
   "outputs": [
    {
     "name": "stdout",
     "output_type": "stream",
     "text": [
      "\u001b[33mWARNING: You are using pip version 20.2.2; however, version 20.3.1 is available.\r\n",
      "You should consider upgrading via the '/home/hp/env/bin/python3.5 -m pip install --upgrade pip' command.\u001b[0m\r\n"
     ]
    }
   ],
   "source": [
    "!pip install jovian --upgrade -q"
   ]
  },
  {
   "cell_type": "code",
   "execution_count": 17,
   "metadata": {},
   "outputs": [],
   "source": [
    "import jovian"
   ]
  },
  {
   "cell_type": "code",
   "execution_count": 18,
   "metadata": {},
   "outputs": [
    {
     "data": {
      "application/javascript": [
       "window.require && require([\"base/js/namespace\"],function(Jupyter){Jupyter.notebook.save_checkpoint()})"
      ],
      "text/plain": [
       "<IPython.core.display.Javascript object>"
      ]
     },
     "metadata": {},
     "output_type": "display_data"
    },
    {
     "name": "stdout",
     "output_type": "stream",
     "text": [
      "[jovian] Attempting to save notebook..\u001b[0m\n",
      "[jovian] Updating notebook \"dkowsikpai/02-insurance-linear-regression\" on https://jovian.ai/\u001b[0m\n",
      "[jovian] Uploading notebook..\u001b[0m\n",
      "[jovian] Committed successfully! https://jovian.ai/dkowsikpai/02-insurance-linear-regression\u001b[0m\n"
     ]
    },
    {
     "data": {
      "text/plain": [
       "'https://jovian.ai/dkowsikpai/02-insurance-linear-regression'"
      ]
     },
     "execution_count": 18,
     "metadata": {},
     "output_type": "execute_result"
    }
   ],
   "source": [
    "jovian.commit(environment=None)"
   ]
  },
  {
   "cell_type": "markdown",
   "metadata": {},
   "source": [
    "## Step 2: Prepare the dataset for training\n",
    "\n",
    "We need to convert the data from the Pandas dataframe into a PyTorch tensors for training. To do this, the first step is to convert it numpy arrays. If you've filled out `input_cols`, `categorial_cols` and `output_cols` correctly, this following function will perform the conversion to numpy arrays."
   ]
  },
  {
   "cell_type": "code",
   "execution_count": 19,
   "metadata": {},
   "outputs": [],
   "source": [
    "def dataframe_to_arrays(dataframe):\n",
    "    # Make a copy of the original dataframe\n",
    "    dataframe1 = dataframe.copy(deep=True)\n",
    "    # Convert non-numeric categorical columns to numbers\n",
    "    for col in categorical_cols:\n",
    "        dataframe1[col] = dataframe1[col].astype('category').cat.codes\n",
    "    # Extract input & outupts as numpy arrays\n",
    "    inputs_array = dataframe1[input_cols].to_numpy()\n",
    "    targets_array = dataframe1[output_cols].to_numpy()\n",
    "    return inputs_array, targets_array"
   ]
  },
  {
   "cell_type": "markdown",
   "metadata": {},
   "source": [
    "Read through the [Pandas documentation](https://pandas.pydata.org/pandas-docs/stable/user_guide/categorical.html) to understand how we're converting categorical variables into numbers."
   ]
  },
  {
   "cell_type": "code",
   "execution_count": 20,
   "metadata": {},
   "outputs": [
    {
     "data": {
      "text/plain": [
       "(array([[32.     ,  1.     , 31.2132 ,  4.     ,  1.     ],\n",
       "        [59.     ,  0.     , 39.072  ,  0.     ,  0.     ],\n",
       "        [37.     ,  0.     , 37.85655,  1.     ,  0.     ],\n",
       "        ...,\n",
       "        [57.     ,  0.     , 22.311  ,  1.     ,  0.     ],\n",
       "        [23.     ,  1.     , 38.184  ,  0.     ,  0.     ],\n",
       "        [57.     ,  0.     , 26.6178 ,  1.     ,  0.     ]]),\n",
       " array([[25552.249772 ],\n",
       "        [14570.99189  ],\n",
       "        [ 7273.7000105],\n",
       "        ...,\n",
       "        [14318.46794  ],\n",
       "        [ 2173.94317  ],\n",
       "        [26409.0001609]]))"
      ]
     },
     "execution_count": 20,
     "metadata": {},
     "output_type": "execute_result"
    }
   ],
   "source": [
    "inputs_array, targets_array = dataframe_to_arrays(dataframe)\n",
    "inputs_array, targets_array"
   ]
  },
  {
   "cell_type": "markdown",
   "metadata": {},
   "source": [
    "**Q: Convert the numpy arrays `inputs_array` and `targets_array` into PyTorch tensors. Make sure that the data type is `torch.float32`.**"
   ]
  },
  {
   "cell_type": "code",
   "execution_count": 21,
   "metadata": {},
   "outputs": [],
   "source": [
    "inputs = torch.as_tensor(inputs_array, dtype=torch.float32)\n",
    "targets = torch.as_tensor(targets_array, dtype=torch.float32)"
   ]
  },
  {
   "cell_type": "code",
   "execution_count": 22,
   "metadata": {},
   "outputs": [
    {
     "data": {
      "text/plain": [
       "(torch.float32, torch.float32)"
      ]
     },
     "execution_count": 22,
     "metadata": {},
     "output_type": "execute_result"
    }
   ],
   "source": [
    "inputs.dtype, targets.dtype"
   ]
  },
  {
   "cell_type": "markdown",
   "metadata": {},
   "source": [
    "Next, we need to create PyTorch datasets & data loaders for training & validation. We'll start by creating a `TensorDataset`."
   ]
  },
  {
   "cell_type": "code",
   "execution_count": 23,
   "metadata": {},
   "outputs": [],
   "source": [
    "dataset = TensorDataset(inputs, targets)"
   ]
  },
  {
   "cell_type": "markdown",
   "metadata": {},
   "source": [
    "**Q: Pick a number between `0.1` and `0.2` to determine the fraction of data that will be used for creating the validation set. Then use `random_split` to create training & validation datasets.**"
   ]
  },
  {
   "cell_type": "code",
   "execution_count": 24,
   "metadata": {},
   "outputs": [],
   "source": [
    "val_percent = 0.105 # between 0.1 and 0.2\n",
    "val_size = int(num_rows * val_percent)\n",
    "train_size = num_rows - val_size\n",
    "\n",
    "\n",
    "train_ds, val_ds = random_split(dataset, [train_size, val_size]) # Use the random_split function to split dataset into 2 parts of the desired length"
   ]
  },
  {
   "cell_type": "markdown",
   "metadata": {},
   "source": [
    "Finally, we can create data loaders for training & validation.\n",
    "\n",
    "**Q: Pick a batch size for the data loader.**"
   ]
  },
  {
   "cell_type": "code",
   "execution_count": 25,
   "metadata": {},
   "outputs": [],
   "source": [
    "batch_size = 128"
   ]
  },
  {
   "cell_type": "code",
   "execution_count": 47,
   "metadata": {},
   "outputs": [],
   "source": [
    "train_loader = DataLoader(train_ds, batch_size, shuffle=True)\n",
    "val_loader = DataLoader(val_ds, batch_size)"
   ]
  },
  {
   "cell_type": "markdown",
   "metadata": {},
   "source": [
    "Let's look at a batch of data to verify everything is working fine so far."
   ]
  },
  {
   "cell_type": "code",
   "execution_count": 48,
   "metadata": {},
   "outputs": [
    {
     "name": "stdout",
     "output_type": "stream",
     "text": [
      "inputs: tensor([[58.0000,  1.0000, 27.9443,  0.0000,  0.0000],\n",
      "        [35.0000,  0.0000, 34.4100,  1.0000,  0.0000],\n",
      "        [32.0000,  0.0000, 45.6210,  0.0000,  0.0000],\n",
      "        [60.0000,  1.0000, 32.9004,  0.0000,  0.0000],\n",
      "        [22.0000,  0.0000, 33.7440,  0.0000,  1.0000],\n",
      "        [29.0000,  0.0000, 31.0134,  1.0000,  1.0000],\n",
      "        [41.0000,  1.0000, 32.9004,  5.0000,  0.0000],\n",
      "        [46.0000,  1.0000, 47.0085,  3.0000,  1.0000],\n",
      "        [19.0000,  0.0000, 33.0780,  0.0000,  0.0000],\n",
      "        [40.0000,  1.0000, 25.2026,  2.0000,  0.0000],\n",
      "        [48.0000,  0.0000, 35.7753,  1.0000,  0.0000],\n",
      "        [55.0000,  0.0000, 33.4554,  2.0000,  0.0000],\n",
      "        [62.0000,  1.0000, 34.9206,  1.0000,  0.0000],\n",
      "        [19.0000,  0.0000, 31.5240,  1.0000,  0.0000],\n",
      "        [58.0000,  1.0000, 40.0488,  0.0000,  0.0000],\n",
      "        [21.0000,  1.0000, 40.9035,  0.0000,  0.0000],\n",
      "        [36.0000,  1.0000, 30.5805,  3.0000,  0.0000],\n",
      "        [41.0000,  0.0000, 34.4322,  0.0000,  0.0000],\n",
      "        [18.0000,  1.0000, 25.8852,  1.0000,  0.0000],\n",
      "        [39.0000,  0.0000, 26.8897,  5.0000,  0.0000],\n",
      "        [58.0000,  1.0000, 54.4566,  0.0000,  0.0000],\n",
      "        [47.0000,  1.0000, 33.1113,  3.0000,  0.0000],\n",
      "        [32.0000,  0.0000, 33.0059,  0.0000,  0.0000],\n",
      "        [23.0000,  0.0000, 38.7001,  0.0000,  0.0000],\n",
      "        [61.0000,  0.0000, 27.8388,  0.0000,  0.0000],\n",
      "        [34.0000,  0.0000, 26.1516,  0.0000,  0.0000],\n",
      "        [51.0000,  0.0000, 45.1326,  0.0000,  0.0000],\n",
      "        [21.0000,  0.0000, 19.3140,  1.0000,  0.0000],\n",
      "        [42.0000,  0.0000, 28.0830,  1.0000,  0.0000],\n",
      "        [23.0000,  0.0000, 31.0800,  0.0000,  0.0000],\n",
      "        [28.0000,  1.0000, 34.2713,  0.0000,  0.0000],\n",
      "        [43.0000,  1.0000, 28.8933,  0.0000,  0.0000],\n",
      "        [60.0000,  1.0000, 44.2890,  0.0000,  1.0000],\n",
      "        [30.0000,  0.0000, 24.3589,  1.0000,  0.0000],\n",
      "        [22.0000,  0.0000, 39.9600,  0.0000,  0.0000],\n",
      "        [50.0000,  0.0000, 37.4070,  4.0000,  0.0000],\n",
      "        [42.0000,  1.0000, 31.4241,  3.0000,  1.0000],\n",
      "        [51.0000,  1.0000, 41.0700,  0.0000,  0.0000],\n",
      "        [61.0000,  1.0000, 48.1740,  0.0000,  0.0000],\n",
      "        [56.0000,  0.0000, 31.7404,  0.0000,  0.0000],\n",
      "        [48.0000,  1.0000, 39.5438,  4.0000,  0.0000],\n",
      "        [19.0000,  1.0000, 31.8570,  0.0000,  0.0000],\n",
      "        [37.0000,  0.0000, 28.3661,  1.0000,  1.0000],\n",
      "        [51.0000,  0.0000, 23.9316,  1.0000,  0.0000],\n",
      "        [51.0000,  0.0000, 37.6456,  0.0000,  0.0000],\n",
      "        [34.0000,  1.0000, 34.1880,  0.0000,  1.0000],\n",
      "        [24.0000,  0.0000, 37.7289,  0.0000,  0.0000],\n",
      "        [31.0000,  1.0000, 28.7490,  3.0000,  1.0000],\n",
      "        [40.0000,  0.0000, 24.6642,  2.0000,  1.0000],\n",
      "        [53.0000,  1.0000, 33.8494,  0.0000,  0.0000],\n",
      "        [19.0000,  1.0000, 28.8933,  1.0000,  1.0000],\n",
      "        [64.0000,  0.0000, 35.3257,  2.0000,  0.0000],\n",
      "        [30.0000,  0.0000, 36.9963,  1.0000,  0.0000],\n",
      "        [20.0000,  0.0000, 41.0700,  5.0000,  0.0000],\n",
      "        [25.0000,  0.0000, 38.2784,  0.0000,  0.0000],\n",
      "        [28.0000,  0.0000, 29.4261,  2.0000,  0.0000],\n",
      "        [18.0000,  1.0000, 25.6243,  0.0000,  0.0000],\n",
      "        [19.0000,  1.0000, 28.3661,  0.0000,  0.0000],\n",
      "        [63.0000,  1.0000, 24.0426,  1.0000,  0.0000],\n",
      "        [64.0000,  0.0000, 33.4277,  3.0000,  0.0000],\n",
      "        [60.0000,  1.0000, 32.0790,  0.0000,  0.0000],\n",
      "        [23.0000,  0.0000, 26.8897,  2.0000,  0.0000],\n",
      "        [38.0000,  0.0000, 30.8969,  2.0000,  0.0000],\n",
      "        [33.0000,  0.0000, 26.9841,  0.0000,  0.0000],\n",
      "        [33.0000,  1.0000, 37.1184,  5.0000,  0.0000],\n",
      "        [54.0000,  1.0000, 36.3802,  0.0000,  0.0000],\n",
      "        [28.0000,  0.0000, 41.7582,  1.0000,  0.0000],\n",
      "        [63.0000,  1.0000, 31.4241,  0.0000,  0.0000],\n",
      "        [18.0000,  1.0000, 25.7631,  0.0000,  0.0000],\n",
      "        [60.0000,  0.0000, 39.9655,  0.0000,  0.0000],\n",
      "        [26.0000,  1.0000, 34.2713,  2.0000,  0.0000],\n",
      "        [30.0000,  1.0000, 30.6859,  1.0000,  0.0000],\n",
      "        [52.0000,  1.0000, 37.8510,  0.0000,  0.0000],\n",
      "        [44.0000,  1.0000, 42.2466,  1.0000,  0.0000],\n",
      "        [58.0000,  0.0000, 36.5911,  0.0000,  0.0000],\n",
      "        [57.0000,  1.0000, 46.7643,  1.0000,  1.0000],\n",
      "        [47.0000,  1.0000, 28.2051,  1.0000,  1.0000],\n",
      "        [34.0000,  0.0000, 29.6703,  1.0000,  0.0000],\n",
      "        [18.0000,  0.0000, 34.7985,  0.0000,  0.0000],\n",
      "        [18.0000,  0.0000, 44.6054,  0.0000,  0.0000],\n",
      "        [41.0000,  1.0000, 31.9680,  1.0000,  0.0000],\n",
      "        [40.0000,  0.0000, 36.6300,  3.0000,  0.0000],\n",
      "        [49.0000,  0.0000, 23.6430,  1.0000,  0.0000],\n",
      "        [63.0000,  1.0000, 40.8092,  0.0000,  0.0000],\n",
      "        [19.0000,  0.0000, 22.8660,  0.0000,  0.0000],\n",
      "        [19.0000,  1.0000, 33.9549,  0.0000,  0.0000],\n",
      "        [22.0000,  1.0000, 35.2203,  0.0000,  0.0000],\n",
      "        [53.0000,  0.0000, 41.5473,  1.0000,  0.0000],\n",
      "        [19.0000,  0.0000, 36.0639,  0.0000,  1.0000],\n",
      "        [39.0000,  0.0000, 26.4957,  5.0000,  0.0000],\n",
      "        [51.0000,  1.0000, 35.8530,  1.0000,  0.0000],\n",
      "        [43.0000,  0.0000, 36.1416,  3.0000,  1.0000],\n",
      "        [50.0000,  1.0000, 35.7476,  0.0000,  0.0000],\n",
      "        [58.0000,  0.0000, 31.3186,  0.0000,  0.0000],\n",
      "        [56.0000,  1.0000, 22.1445,  0.0000,  1.0000],\n",
      "        [18.0000,  1.0000, 27.9443,  0.0000,  1.0000],\n",
      "        [59.0000,  0.0000, 35.9585,  3.0000,  0.0000],\n",
      "        [52.0000,  1.0000, 33.5220,  1.0000,  0.0000],\n",
      "        [29.0000,  1.0000, 24.9916,  3.0000,  0.0000],\n",
      "        [27.0000,  0.0000, 27.9443,  0.0000,  0.0000],\n",
      "        [30.0000,  1.0000, 41.9580,  2.0000,  1.0000],\n",
      "        [18.0000,  0.0000, 46.8864,  0.0000,  1.0000],\n",
      "        [33.0000,  0.0000, 47.6634,  3.0000,  0.0000],\n",
      "        [52.0000,  0.0000, 42.6018,  2.0000,  0.0000],\n",
      "        [60.0000,  1.0000, 36.4080,  0.0000,  1.0000],\n",
      "        [46.0000,  0.0000, 30.7914,  0.0000,  0.0000],\n",
      "        [18.0000,  0.0000, 34.5543,  0.0000,  0.0000],\n",
      "        [55.0000,  1.0000, 39.1219,  1.0000,  0.0000],\n",
      "        [37.0000,  0.0000, 30.7914,  3.0000,  0.0000],\n",
      "        [23.0000,  1.0000, 39.0720,  1.0000,  0.0000],\n",
      "        [59.0000,  1.0000, 30.5250,  1.0000,  0.0000],\n",
      "        [25.0000,  1.0000, 30.5805,  0.0000,  0.0000],\n",
      "        [34.0000,  0.0000, 41.4418,  2.0000,  0.0000],\n",
      "        [36.0000,  1.0000, 38.2173,  2.0000,  0.0000],\n",
      "        [52.0000,  1.0000, 42.8460,  2.0000,  0.0000],\n",
      "        [32.0000,  1.0000, 37.3293,  1.0000,  1.0000],\n",
      "        [61.0000,  0.0000, 34.5876,  0.0000,  0.0000],\n",
      "        [57.0000,  0.0000, 24.6753,  0.0000,  0.0000],\n",
      "        [35.0000,  1.0000, 38.0952,  3.0000,  0.0000],\n",
      "        [62.0000,  0.0000, 36.2748,  0.0000,  0.0000],\n",
      "        [23.0000,  0.0000, 40.7037,  2.0000,  1.0000],\n",
      "        [57.0000,  0.0000, 35.3257,  0.0000,  0.0000],\n",
      "        [21.0000,  0.0000, 36.2748,  2.0000,  0.0000],\n",
      "        [50.0000,  1.0000, 35.3257,  0.0000,  1.0000],\n",
      "        [64.0000,  1.0000, 29.3151,  0.0000,  0.0000],\n",
      "        [50.0000,  1.0000, 49.6947,  1.0000,  0.0000],\n",
      "        [46.0000,  1.0000, 27.5224,  3.0000,  0.0000],\n",
      "        [47.0000,  1.0000, 43.2234,  2.0000,  1.0000]])\n",
      "targets: tensor([[14198.0391],\n",
      "        [ 6236.5103],\n",
      "        [ 4747.9106],\n",
      "        [15149.8896],\n",
      "        [40349.9805],\n",
      "        [22738.2578],\n",
      "        [10974.6592],\n",
      "        [54919.8398],\n",
      "        [ 2075.9133],\n",
      "        [ 8536.2988],\n",
      "        [10556.6709],\n",
      "        [14139.5439],\n",
      "        [32131.1719],\n",
      "        [ 2774.5076],\n",
      "        [13522.3066],\n",
      "        [ 1825.8224],\n",
      "        [ 8028.6235],\n",
      "        [ 7360.5317],\n",
      "        [ 2036.1219],\n",
      "        [10669.2969],\n",
      "        [13543.7773],\n",
      "        [11448.1934],\n",
      "        [ 5184.8818],\n",
      "        [ 3450.3923],\n",
      "        [29170.5781],\n",
      "        [ 5940.9277],\n",
      "        [11752.0596],\n",
      "        [ 3076.4702],\n",
      "        [ 8384.1436],\n",
      "        [15620.7461],\n",
      "        [ 3644.3848],\n",
      "        [ 8136.4688],\n",
      "        [57326.3008],\n",
      "        [ 5614.6621],\n",
      "        [ 2578.4111],\n",
      "        [13446.2178],\n",
      "        [39017.0742],\n",
      "        [10470.3252],\n",
      "        [14963.1182],\n",
      "        [13873.1572],\n",
      "        [12776.8760],\n",
      "        [ 1492.1838],\n",
      "        [24153.2676],\n",
      "        [11727.6064],\n",
      "        [11740.9023],\n",
      "        [42235.0508],\n",
      "        [ 2943.2676],\n",
      "        [22847.9336],\n",
      "        [23138.6758],\n",
      "        [11985.7451],\n",
      "        [19576.5645],\n",
      "        [19122.2109],\n",
      "        [ 4939.7241],\n",
      "        [ 5748.4497],\n",
      "        [ 3595.9529],\n",
      "        [ 5165.1245],\n",
      "        [ 2028.5931],\n",
      "        [ 1942.7517],\n",
      "        [17076.3262],\n",
      "        [19582.2930],\n",
      "        [14454.8955],\n",
      "        [26650.9355],\n",
      "        [ 8502.3867],\n",
      "        [ 4980.2666],\n",
      "        [ 7918.0083],\n",
      "        [12417.7275],\n",
      "        [ 4482.5918],\n",
      "        [16386.4160],\n",
      "        [ 1335.0299],\n",
      "        [15742.3281],\n",
      "        [ 4613.9922],\n",
      "        [ 5042.1807],\n",
      "        [10877.7314],\n",
      "        [ 8511.6787],\n",
      "        [14792.8350],\n",
      "        [57923.8672],\n",
      "        [26154.6250],\n",
      "        [ 5953.3115],\n",
      "        [ 1930.4043],\n",
      "        [ 2638.7883],\n",
      "        [ 7475.8599],\n",
      "        [ 9142.3770],\n",
      "        [10926.7822],\n",
      "        [16638.4023],\n",
      "        [ 2060.6956],\n",
      "        [ 1951.0801],\n",
      "        [ 2683.2080],\n",
      "        [13042.0371],\n",
      "        [43909.4922],\n",
      "        [10212.9395],\n",
      "        [11857.2314],\n",
      "        [48720.1289],\n",
      "        [10513.9648],\n",
      "        [14546.9775],\n",
      "        [26671.0508],\n",
      "        [18466.6348],\n",
      "        [17362.8516],\n",
      "        [11572.1904],\n",
      "        [ 6199.3989],\n",
      "        [ 4234.7583],\n",
      "        [46697.3164],\n",
      "        [46163.2969],\n",
      "        [ 7569.5825],\n",
      "        [13562.3115],\n",
      "        [62583.0859],\n",
      "        [ 9551.7334],\n",
      "        [ 1930.0404],\n",
      "        [13558.9385],\n",
      "        [ 8664.9912],\n",
      "        [ 2876.1765],\n",
      "        [14677.2549],\n",
      "        [ 3002.5718],\n",
      "        [ 7127.5332],\n",
      "        [ 6645.3237],\n",
      "        [12286.9951],\n",
      "        [44752.9570],\n",
      "        [15980.5518],\n",
      "        [14314.8516],\n",
      "        [ 7061.9121],\n",
      "        [16475.3086],\n",
      "        [45828.8359],\n",
      "        [14092.7227],\n",
      "        [30962.5508],\n",
      "        [48905.6211],\n",
      "        [17129.5234],\n",
      "        [10779.8887],\n",
      "        [11305.6816],\n",
      "        [52601.1562]])\n"
     ]
    }
   ],
   "source": [
    "for xb, yb in train_loader:\n",
    "    print(\"inputs:\", xb)\n",
    "    print(\"targets:\", yb)\n",
    "    break"
   ]
  },
  {
   "cell_type": "markdown",
   "metadata": {},
   "source": [
    "Let's save our work by committing to Jovian."
   ]
  },
  {
   "cell_type": "code",
   "execution_count": 49,
   "metadata": {},
   "outputs": [
    {
     "data": {
      "application/javascript": [
       "window.require && require([\"base/js/namespace\"],function(Jupyter){Jupyter.notebook.save_checkpoint()})"
      ],
      "text/plain": [
       "<IPython.core.display.Javascript object>"
      ]
     },
     "metadata": {},
     "output_type": "display_data"
    },
    {
     "name": "stdout",
     "output_type": "stream",
     "text": [
      "[jovian] Attempting to save notebook..\u001b[0m\n",
      "[jovian] Updating notebook \"dkowsikpai/02-insurance-linear-regression\" on https://jovian.ai/\u001b[0m\n",
      "[jovian] Uploading notebook..\u001b[0m\n",
      "[jovian] Committed successfully! https://jovian.ai/dkowsikpai/02-insurance-linear-regression\u001b[0m\n"
     ]
    },
    {
     "data": {
      "text/plain": [
       "'https://jovian.ai/dkowsikpai/02-insurance-linear-regression'"
      ]
     },
     "execution_count": 49,
     "metadata": {},
     "output_type": "execute_result"
    }
   ],
   "source": [
    "jovian.commit(project=project_name, environment=None)"
   ]
  },
  {
   "cell_type": "markdown",
   "metadata": {},
   "source": [
    "## Step 3: Create a Linear Regression Model\n",
    "\n",
    "Our model itself is a fairly straightforward linear regression (we'll build more complex models in the next assignment). \n"
   ]
  },
  {
   "cell_type": "code",
   "execution_count": 50,
   "metadata": {},
   "outputs": [],
   "source": [
    "input_size = len(input_cols)\n",
    "output_size = len(output_cols)"
   ]
  },
  {
   "cell_type": "markdown",
   "metadata": {},
   "source": [
    "**Q: Complete the class definition below by filling out the constructor (`__init__`), `forward`, `training_step` and `validation_step` methods.**\n",
    "\n",
    "Hint: Think carefully about picking a good loss fuction (it's not cross entropy). Maybe try 2-3 of them and see which one works best. See https://pytorch.org/docs/stable/nn.functional.html#loss-functions"
   ]
  },
  {
   "cell_type": "code",
   "execution_count": 51,
   "metadata": {},
   "outputs": [],
   "source": [
    "class InsuranceModel(nn.Module):\n",
    "    def __init__(self):\n",
    "        super().__init__()\n",
    "        self.linear = nn.Linear(input_size, output_size)                  # fill this (hint: use input_size & output_size defined above)\n",
    "        \n",
    "    def forward(self, xb):\n",
    "        out = self.linear(xb)                          # fill this\n",
    "        return out\n",
    "    \n",
    "    def training_step(self, batch):\n",
    "        inputs, targets = batch \n",
    "        # Generate predictions\n",
    "        out = self(inputs)          \n",
    "        # Calcuate loss\n",
    "        loss = F.l1_loss(out, targets)                          # fill this\n",
    "#         print((out, loss))\n",
    "        return loss\n",
    "    \n",
    "    def validation_step(self, batch):\n",
    "        inputs, targets = batch\n",
    "        # Generate predictions\n",
    "        out = self(inputs)\n",
    "        # Calculate loss\n",
    "        loss = F.l1_loss(out, targets)                           # fill this    \n",
    "        return {'val_loss': loss.detach()}\n",
    "        \n",
    "    def validation_epoch_end(self, outputs):\n",
    "        batch_losses = [x['val_loss'] for x in outputs]\n",
    "        epoch_loss = torch.stack(batch_losses).mean()   # Combine losses\n",
    "        return {'val_loss': epoch_loss.item()}\n",
    "    \n",
    "    def epoch_end(self, epoch, result, num_epochs):\n",
    "        # Print result every 20th epoch\n",
    "        if (epoch+1) % 20 == 0 or epoch == num_epochs-1:\n",
    "            print(\"Epoch [{}], val_loss: {:.4f}\".format(epoch+1, result['val_loss']))"
   ]
  },
  {
   "cell_type": "markdown",
   "metadata": {},
   "source": [
    "Let us create a model using the `InsuranceModel` class. You may need to come back later and re-run the next cell to reinitialize the model, in case the loss becomes `nan` or `infinity`."
   ]
  },
  {
   "cell_type": "code",
   "execution_count": 52,
   "metadata": {},
   "outputs": [],
   "source": [
    "model = InsuranceModel()"
   ]
  },
  {
   "cell_type": "markdown",
   "metadata": {},
   "source": [
    "Let's check out the weights and biases of the model using `model.parameters`."
   ]
  },
  {
   "cell_type": "code",
   "execution_count": 53,
   "metadata": {},
   "outputs": [
    {
     "data": {
      "text/plain": [
       "[Parameter containing:\n",
       " tensor([[ 0.3844, -0.1889, -0.0980, -0.1127, -0.0596]], requires_grad=True),\n",
       " Parameter containing:\n",
       " tensor([0.0937], requires_grad=True)]"
      ]
     },
     "execution_count": 53,
     "metadata": {},
     "output_type": "execute_result"
    }
   ],
   "source": [
    "list(model.parameters())"
   ]
  },
  {
   "cell_type": "markdown",
   "metadata": {},
   "source": [
    "One final commit before we train the model."
   ]
  },
  {
   "cell_type": "code",
   "execution_count": 55,
   "metadata": {},
   "outputs": [
    {
     "data": {
      "application/javascript": [
       "window.require && require([\"base/js/namespace\"],function(Jupyter){Jupyter.notebook.save_checkpoint()})"
      ],
      "text/plain": [
       "<IPython.core.display.Javascript object>"
      ]
     },
     "metadata": {},
     "output_type": "display_data"
    },
    {
     "name": "stdout",
     "output_type": "stream",
     "text": [
      "[jovian] Attempting to save notebook..\u001b[0m\n",
      "[jovian] Updating notebook \"dkowsikpai/02-insurance-linear-regression\" on https://jovian.ai/\u001b[0m\n",
      "[jovian] Uploading notebook..\u001b[0m\n",
      "[jovian] Committed successfully! https://jovian.ai/dkowsikpai/02-insurance-linear-regression\u001b[0m\n"
     ]
    },
    {
     "data": {
      "text/plain": [
       "'https://jovian.ai/dkowsikpai/02-insurance-linear-regression'"
      ]
     },
     "execution_count": 55,
     "metadata": {},
     "output_type": "execute_result"
    }
   ],
   "source": [
    "jovian.commit(project=project_name, environment=None)"
   ]
  },
  {
   "cell_type": "markdown",
   "metadata": {},
   "source": [
    "## Step 4: Train the model to fit the data\n",
    "\n",
    "To train our model, we'll use the same `fit` function explained in the lecture. That's the benefit of defining a generic training loop - you can use it for any problem."
   ]
  },
  {
   "cell_type": "code",
   "execution_count": 56,
   "metadata": {},
   "outputs": [],
   "source": [
    "def evaluate(model, val_loader):\n",
    "    outputs = [model.validation_step(batch) for batch in val_loader]\n",
    "    return model.validation_epoch_end(outputs)\n",
    "\n",
    "def fit(epochs, lr, model, train_loader, val_loader, opt_func=torch.optim.SGD):\n",
    "    history = []\n",
    "    optimizer = opt_func(model.parameters(), lr)\n",
    "    for epoch in range(epochs):\n",
    "#         print(epoch)\n",
    "        # Training Phase \n",
    "        for batch in train_loader:\n",
    "            loss = model.training_step(batch)\n",
    "            loss.backward()\n",
    "            optimizer.step()\n",
    "            optimizer.zero_grad()\n",
    "        # Validation phase\n",
    "        result = evaluate(model, val_loader)\n",
    "        model.epoch_end(epoch, result, epochs)\n",
    "        history.append(result)\n",
    "    return history"
   ]
  },
  {
   "cell_type": "markdown",
   "metadata": {},
   "source": [
    "**Q: Use the `evaluate` function to calculate the loss on the validation set before training.**"
   ]
  },
  {
   "cell_type": "code",
   "execution_count": 57,
   "metadata": {},
   "outputs": [
    {
     "name": "stdout",
     "output_type": "stream",
     "text": [
      "{'val_loss': 16176.75390625}\n"
     ]
    }
   ],
   "source": [
    "result = evaluate(model, val_loader) # Use the the evaluate function\n",
    "print(result)"
   ]
  },
  {
   "cell_type": "markdown",
   "metadata": {},
   "source": [
    "\n",
    "We are now ready to train the model. You may need to run the training loop many times, for different number of epochs and with different learning rates, to get a good result. Also, if your loss becomes too large (or `nan`), you may have to re-initialize the model by running the cell `model = InsuranceModel()`. Experiment with this for a while, and try to get to as low a loss as possible."
   ]
  },
  {
   "cell_type": "markdown",
   "metadata": {},
   "source": [
    "**Q: Train the model 4-5 times with different learning rates & for different number of epochs.**\n",
    "\n",
    "Hint: Vary learning rates by orders of 10 (e.g. `1e-2`, `1e-3`, `1e-4`, `1e-5`, `1e-6`) to figure out what works."
   ]
  },
  {
   "cell_type": "code",
   "execution_count": 58,
   "metadata": {},
   "outputs": [
    {
     "name": "stdout",
     "output_type": "stream",
     "text": [
      "Epoch [20], val_loss: 11716.2695\n",
      "Epoch [40], val_loss: 9410.3047\n",
      "Epoch [60], val_loss: 8527.1914\n",
      "Epoch [80], val_loss: 8340.2051\n",
      "Epoch [100], val_loss: 8339.4570\n",
      "Epoch [120], val_loss: 8338.3906\n",
      "Epoch [140], val_loss: 8333.0439\n",
      "Epoch [160], val_loss: 8326.1494\n",
      "Epoch [180], val_loss: 8318.2246\n",
      "Epoch [200], val_loss: 8310.6279\n"
     ]
    }
   ],
   "source": [
    "epochs = 200\n",
    "lr = 10**-2\n",
    "history1 = fit(epochs, lr, model, train_loader, val_loader)"
   ]
  },
  {
   "cell_type": "code",
   "execution_count": 59,
   "metadata": {},
   "outputs": [
    {
     "name": "stdout",
     "output_type": "stream",
     "text": [
      "Epoch [20], val_loss: 8309.8652\n",
      "Epoch [40], val_loss: 8309.1133\n",
      "Epoch [60], val_loss: 8308.3770\n",
      "Epoch [80], val_loss: 8307.6406\n",
      "Epoch [100], val_loss: 8306.9238\n",
      "Epoch [120], val_loss: 8306.2061\n",
      "Epoch [140], val_loss: 8305.4922\n",
      "Epoch [160], val_loss: 8304.7744\n",
      "Epoch [180], val_loss: 8304.0811\n",
      "Epoch [200], val_loss: 8303.3721\n"
     ]
    }
   ],
   "source": [
    "epochs = 200\n",
    "lr = 10**-3\n",
    "history2 = fit(epochs, lr, model, train_loader, val_loader)"
   ]
  },
  {
   "cell_type": "code",
   "execution_count": 60,
   "metadata": {},
   "outputs": [
    {
     "name": "stdout",
     "output_type": "stream",
     "text": [
      "Epoch [20], val_loss: 8303.3008\n",
      "Epoch [40], val_loss: 8303.2295\n",
      "Epoch [60], val_loss: 8303.1582\n",
      "Epoch [80], val_loss: 8303.0879\n",
      "Epoch [100], val_loss: 8303.0156\n",
      "Epoch [120], val_loss: 8302.9453\n",
      "Epoch [140], val_loss: 8302.8740\n",
      "Epoch [160], val_loss: 8302.8027\n",
      "Epoch [180], val_loss: 8302.7334\n",
      "Epoch [200], val_loss: 8302.6641\n"
     ]
    }
   ],
   "source": [
    "epochs = 200\n",
    "lr = 10**-4\n",
    "history3 = fit(epochs, lr, model, train_loader, val_loader)"
   ]
  },
  {
   "cell_type": "code",
   "execution_count": 61,
   "metadata": {},
   "outputs": [
    {
     "name": "stdout",
     "output_type": "stream",
     "text": [
      "Epoch [20], val_loss: 8302.6572\n",
      "Epoch [40], val_loss: 8302.6504\n",
      "Epoch [60], val_loss: 8302.6426\n",
      "Epoch [80], val_loss: 8302.6367\n",
      "Epoch [100], val_loss: 8302.6299\n",
      "Epoch [120], val_loss: 8302.6221\n",
      "Epoch [140], val_loss: 8302.6152\n",
      "Epoch [160], val_loss: 8302.6074\n",
      "Epoch [180], val_loss: 8302.6016\n",
      "Epoch [200], val_loss: 8302.5938\n"
     ]
    }
   ],
   "source": [
    "epochs = 200\n",
    "lr = 10**-5\n",
    "history4 = fit(epochs, lr, model, train_loader, val_loader)"
   ]
  },
  {
   "cell_type": "code",
   "execution_count": 62,
   "metadata": {},
   "outputs": [
    {
     "name": "stdout",
     "output_type": "stream",
     "text": [
      "Epoch [20], val_loss: 8302.5928\n",
      "Epoch [40], val_loss: 8302.5918\n",
      "Epoch [60], val_loss: 8302.5898\n",
      "Epoch [80], val_loss: 8302.5889\n",
      "Epoch [100], val_loss: 8302.5879\n",
      "Epoch [120], val_loss: 8302.5859\n",
      "Epoch [140], val_loss: 8302.5850\n",
      "Epoch [160], val_loss: 8302.5840\n",
      "Epoch [180], val_loss: 8302.5820\n",
      "Epoch [200], val_loss: 8302.5811\n"
     ]
    }
   ],
   "source": [
    "epochs = 200\n",
    "lr = 10**-6\n",
    "history5 = fit(epochs, lr, model, train_loader, val_loader)"
   ]
  },
  {
   "cell_type": "markdown",
   "metadata": {},
   "source": [
    "**Q: What is the final validation loss of your model?**"
   ]
  },
  {
   "cell_type": "code",
   "execution_count": 63,
   "metadata": {},
   "outputs": [],
   "source": [
    "val_loss = 8302.5811"
   ]
  },
  {
   "cell_type": "markdown",
   "metadata": {},
   "source": [
    "Let's log the final validation loss to Jovian and commit the notebook"
   ]
  },
  {
   "cell_type": "code",
   "execution_count": 65,
   "metadata": {},
   "outputs": [
    {
     "name": "stdout",
     "output_type": "stream",
     "text": [
      "[jovian] Metrics logged.\u001b[0m\n"
     ]
    }
   ],
   "source": [
    "jovian.log_metrics(val_loss=val_loss)"
   ]
  },
  {
   "cell_type": "code",
   "execution_count": 66,
   "metadata": {},
   "outputs": [
    {
     "data": {
      "application/javascript": [
       "window.require && require([\"base/js/namespace\"],function(Jupyter){Jupyter.notebook.save_checkpoint()})"
      ],
      "text/plain": [
       "<IPython.core.display.Javascript object>"
      ]
     },
     "metadata": {},
     "output_type": "display_data"
    },
    {
     "name": "stdout",
     "output_type": "stream",
     "text": [
      "[jovian] Attempting to save notebook..\u001b[0m\n",
      "[jovian] Updating notebook \"dkowsikpai/02-insurance-linear-regression\" on https://jovian.ai/\u001b[0m\n",
      "[jovian] Uploading notebook..\u001b[0m\n",
      "[jovian] Attaching records (metrics, hyperparameters, dataset etc.)\u001b[0m\n",
      "[jovian] Committed successfully! https://jovian.ai/dkowsikpai/02-insurance-linear-regression\u001b[0m\n"
     ]
    },
    {
     "data": {
      "text/plain": [
       "'https://jovian.ai/dkowsikpai/02-insurance-linear-regression'"
      ]
     },
     "execution_count": 66,
     "metadata": {},
     "output_type": "execute_result"
    }
   ],
   "source": [
    "jovian.commit(project=project_name, environment=None)"
   ]
  },
  {
   "cell_type": "markdown",
   "metadata": {},
   "source": [
    "Now scroll back up, re-initialize the model, and try different set of values for batch size, number of epochs, learning rate etc. Commit each experiment and use the \"Compare\" and \"View Diff\" options on Jovian to compare the different results."
   ]
  },
  {
   "cell_type": "markdown",
   "metadata": {},
   "source": [
    "## Step 5: Make predictions using the trained model\n",
    "\n",
    "**Q: Complete the following function definition to make predictions on a single input**"
   ]
  },
  {
   "cell_type": "code",
   "execution_count": 67,
   "metadata": {},
   "outputs": [],
   "source": [
    "def predict_single(input, target, model):\n",
    "    inputs = input.unsqueeze(0)\n",
    "    predictions = model(inputs)                # fill this\n",
    "    prediction = predictions[0].detach()\n",
    "    print(\"Input:\", input)\n",
    "    print(\"Target:\", target)\n",
    "    print(\"Prediction:\", prediction)"
   ]
  },
  {
   "cell_type": "code",
   "execution_count": 68,
   "metadata": {},
   "outputs": [
    {
     "name": "stdout",
     "output_type": "stream",
     "text": [
      "Input: tensor([58.0000,  0.0000, 32.1900,  0.0000,  0.0000])\n",
      "Target: tensor([14092.5059])\n",
      "Prediction: tensor([13421.6289])\n"
     ]
    }
   ],
   "source": [
    "input, target = val_ds[0]\n",
    "predict_single(input, target, model)"
   ]
  },
  {
   "cell_type": "code",
   "execution_count": 69,
   "metadata": {},
   "outputs": [
    {
     "name": "stdout",
     "output_type": "stream",
     "text": [
      "Input: tensor([60.0000,  1.0000, 26.9952,  0.0000,  0.0000])\n",
      "Target: tensor([14903.0898])\n",
      "Prediction: tensor([13473.2686])\n"
     ]
    }
   ],
   "source": [
    "input, target = val_ds[10]\n",
    "predict_single(input, target, model)"
   ]
  },
  {
   "cell_type": "code",
   "execution_count": 70,
   "metadata": {},
   "outputs": [
    {
     "name": "stdout",
     "output_type": "stream",
     "text": [
      "Input: tensor([33.0000,  0.0000, 43.1790,  3.0000,  0.0000])\n",
      "Target: tensor([7107.1299])\n",
      "Prediction: tensor([9275.3369])\n"
     ]
    }
   ],
   "source": [
    "input, target = val_ds[23]\n",
    "predict_single(input, target, model)"
   ]
  },
  {
   "cell_type": "markdown",
   "metadata": {},
   "source": [
    "Are you happy with your model's predictions? Try to improve them further."
   ]
  },
  {
   "cell_type": "markdown",
   "metadata": {},
   "source": [
    "## (Optional) Step 6: Try another dataset & blog about it\n",
    "\n",
    "While this last step is optional for the submission of your assignment, we highly recommend that you do it. Try to replicate this notebook for a different linear regression or logistic regression problem. This will help solidify your understanding, and give you a chance to differentiate the generic patterns in machine learning from problem-specific details.You can use one of these starer notebooks (just change the dataset):\n",
    "\n",
    "- Linear regression (minimal): https://jovian.ai/aakashns/housing-linear-minimal\n",
    "- Logistic regression (minimal): https://jovian.ai/aakashns/mnist-logistic-minimal\n",
    "\n",
    "Here are some sources to find good datasets:\n",
    "\n",
    "- https://lionbridge.ai/datasets/10-open-datasets-for-linear-regression/\n",
    "- https://www.kaggle.com/rtatman/datasets-for-regression-analysis\n",
    "- https://archive.ics.uci.edu/ml/datasets.php?format=&task=reg&att=&area=&numAtt=&numIns=&type=&sort=nameUp&view=table\n",
    "- https://people.sc.fsu.edu/~jburkardt/datasets/regression/regression.html\n",
    "- https://archive.ics.uci.edu/ml/datasets/wine+quality\n",
    "- https://pytorch.org/docs/stable/torchvision/datasets.html\n",
    "\n",
    "We also recommend that you write a blog about your approach to the problem. Here is a suggested structure for your post (feel free to experiment with it):\n",
    "\n",
    "- Interesting title & subtitle\n",
    "- Overview of what the blog covers (which dataset, linear regression or logistic regression, intro to PyTorch)\n",
    "- Downloading & exploring the data\n",
    "- Preparing the data for training\n",
    "- Creating a model using PyTorch\n",
    "- Training the model to fit the data\n",
    "- Your thoughts on how to experiment with different hyperparmeters to reduce loss\n",
    "- Making predictions using the model\n",
    "\n",
    "As with the previous assignment, you can [embed Juptyer notebook cells & outputs from Jovian](https://medium.com/jovianml/share-and-embed-jupyter-notebooks-online-with-jovian-ml-df709a03064e) into your blog. \n",
    "\n",
    "Don't forget to share your work on the forum: https://jovian.ai/forum/t/linear-regression-and-logistic-regression-notebooks-and-blog-posts/14039"
   ]
  },
  {
   "cell_type": "code",
   "execution_count": null,
   "metadata": {},
   "outputs": [],
   "source": [
    "jovian.commit(project=project_name, environment=None)\n",
    "jovian.commit(project=project_name, environment=None) # try again, kaggle fails sometimes"
   ]
  },
  {
   "cell_type": "code",
   "execution_count": null,
   "metadata": {},
   "outputs": [],
   "source": []
  }
 ],
 "metadata": {
  "kernelspec": {
   "display_name": "Python 3",
   "language": "python",
   "name": "python3"
  },
  "language_info": {
   "codemirror_mode": {
    "name": "ipython",
    "version": 3
   },
   "file_extension": ".py",
   "mimetype": "text/x-python",
   "name": "python",
   "nbconvert_exporter": "python",
   "pygments_lexer": "ipython3",
   "version": "3.5.10"
  }
 },
 "nbformat": 4,
 "nbformat_minor": 4
}
